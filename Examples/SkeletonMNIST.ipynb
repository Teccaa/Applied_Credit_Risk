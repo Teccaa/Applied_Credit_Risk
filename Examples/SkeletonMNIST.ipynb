{
  "cells": [
    {
      "cell_type": "markdown",
      "metadata": {
        "id": "6FlZsAzVUkMo"
      },
      "source": [
        "# Practical 3: MNIST\n",
        "\n",
        "This is the first task of Practical 3. Your task is to build a (convolutional) neural network to classify the handwritten digits from the MNIST dataset (http://yann.lecun.com/exdb/mnist/). \n",
        "\n",
        "You should get an accuracy of **at least 97%** to pass the practical. \n",
        "\n",
        "The model files might be too large to be uploaded to GitHub. \n",
        "Please use the following link to upload your models: https://seafile.ifi.uzh.ch/u/d/695f63e725b641ed8633/\n",
        "\n",
        "Name the model file `{repository_name}-MNIST.h5`. For example, if your repository is FDS22-M0, you should name the model file `FDS22-M0-MNIST.h5`. If you are not satisfied with the model you have uploaded, you can upload a new one with the same name. We will only look at the newest model. Nevertheless, try to upload as few times as possible, since the online drive has a limited amount of space. "
      ]
    },
    {
      "cell_type": "markdown",
      "metadata": {
        "id": "7_611c5bUkMu"
      },
      "source": [
        "## Import the libraries"
      ]
    },
    {
      "cell_type": "code",
      "execution_count": 1,
      "metadata": {
        "id": "XFcWUVmTUkMw"
      },
      "outputs": [
        {
          "name": "stderr",
          "output_type": "stream",
          "text": [
            "2023-01-01 16:08:25.733649: I tensorflow/core/platform/cpu_feature_guard.cc:193] This TensorFlow binary is optimized with oneAPI Deep Neural Network Library (oneDNN) to use the following CPU instructions in performance-critical operations:  AVX2 FMA\n",
            "To enable them in other operations, rebuild TensorFlow with the appropriate compiler flags.\n",
            "2023-01-01 16:08:30.600351: W tensorflow/compiler/xla/stream_executor/platform/default/dso_loader.cc:64] Could not load dynamic library 'libcudart.so.11.0'; dlerror: libcudart.so.11.0: cannot open shared object file: No such file or directory\n",
            "2023-01-01 16:08:30.600374: I tensorflow/compiler/xla/stream_executor/cuda/cudart_stub.cc:29] Ignore above cudart dlerror if you do not have a GPU set up on your machine.\n",
            "2023-01-01 16:08:39.516666: W tensorflow/compiler/xla/stream_executor/platform/default/dso_loader.cc:64] Could not load dynamic library 'libnvinfer.so.7'; dlerror: libnvinfer.so.7: cannot open shared object file: No such file or directory\n",
            "2023-01-01 16:08:39.516752: W tensorflow/compiler/xla/stream_executor/platform/default/dso_loader.cc:64] Could not load dynamic library 'libnvinfer_plugin.so.7'; dlerror: libnvinfer_plugin.so.7: cannot open shared object file: No such file or directory\n",
            "2023-01-01 16:08:39.516759: W tensorflow/compiler/tf2tensorrt/utils/py_utils.cc:38] TF-TRT Warning: Cannot dlopen some TensorRT libraries. If you would like to use Nvidia GPU with TensorRT, please make sure the missing libraries mentioned above are installed properly.\n"
          ]
        }
      ],
      "source": [
        "import numpy as np\n",
        "import pandas as pd\n",
        "import matplotlib.pyplot as plt\n",
        "\n",
        "import tensorflow as tf\n",
        "from tensorflow import keras"
      ]
    },
    {
      "cell_type": "code",
      "execution_count": 2,
      "metadata": {
        "id": "6HEUv1WxUkMz",
        "outputId": "6e82f345-5b30-4749-86ec-48589ec5bfc4"
      },
      "outputs": [
        {
          "data": {
            "text/plain": [
              "'2.11.0'"
            ]
          },
          "execution_count": 2,
          "metadata": {},
          "output_type": "execute_result"
        }
      ],
      "source": [
        "tf.__version__"
      ]
    },
    {
      "cell_type": "code",
      "execution_count": 3,
      "metadata": {
        "id": "_cPpFK7rUkM2",
        "outputId": "823206b2-a5ae-4acb-fb85-e0d96e72648a"
      },
      "outputs": [
        {
          "data": {
            "text/plain": [
              "'2.11.0'"
            ]
          },
          "execution_count": 3,
          "metadata": {},
          "output_type": "execute_result"
        }
      ],
      "source": [
        "tf.keras.__version__"
      ]
    },
    {
      "cell_type": "markdown",
      "metadata": {
        "id": "rfUZCsjjUkM4"
      },
      "source": [
        "## Prepare the dataset\n",
        "\n",
        "In this block, you will prepare the data for the training, such as normalisation. "
      ]
    },
    {
      "cell_type": "code",
      "execution_count": 4,
      "metadata": {
        "id": "4UllLo8FUkM5",
        "outputId": "8e15eb35-8a86-4617-fc8b-c21c927dfa8c"
      },
      "outputs": [
        {
          "data": {
            "image/png": "[encoded data removed]",
            "text/plain": [
              "<Figure size 640x480 with 9 Axes>"
            ]
          },
          "metadata": {},
          "output_type": "display_data"
        },
        {
          "data": {
            "text/plain": [
              "(60000, 28, 28)"
            ]
          },
          "execution_count": 4,
          "metadata": {},
          "output_type": "execute_result"
        }
      ],
      "source": [
        "from keras.datasets import mnist\n",
        "(X_train_full, y_train_full), (X_test, y_test) = mnist.load_data()\n",
        "\n",
        "for i in range(0,9):\n",
        "    plt.subplot(330 + 1 + i)\n",
        "    plt.imshow(X_train_full[i])\n",
        "plt.show()\n",
        "\n",
        "X_train_full.shape"
      ]
    },
    {
      "cell_type": "markdown",
      "metadata": {
        "id": "j5hG6NpXUkM6"
      },
      "source": [
        "## Build and train the model\n",
        "\n",
        "Build and train your model. "
      ]
    },
    {
      "cell_type": "code",
      "execution_count": 5,
      "metadata": {
        "id": "_DHUcNEqUkM7"
      },
      "outputs": [],
      "source": [
        "# TODO: Build your model\n"
      ]
    },
    {
      "cell_type": "code",
      "execution_count": 6,
      "metadata": {},
      "outputs": [],
      "source": [
        "#Dataset preparation\n",
        "  #Reshape Data to have one single channel\n",
        "X_train_full = X_train_full.reshape((X_train_full.shape[0], 28, 28, 1))\n",
        "X_test = X_test.reshape((X_test.shape[0], 28, 28, 1))\n",
        "\n",
        "  #Normalisation\n",
        "X_train_full = X_train_full/255.0\n",
        "X_test = X_test/255.0\n",
        "\n",
        "  #One hot encoding matrix\n",
        "y_train_full = keras.utils.to_categorical(y_train_full, num_classes=10)\n",
        "y_test = keras.utils.to_categorical(y_test, num_classes=10)"
      ]
    },
    {
      "cell_type": "code",
      "execution_count": 7,
      "metadata": {},
      "outputs": [],
      "source": [
        "#Validation dataset\n",
        "valid_size = 5000\n",
        "\n",
        "np.random.seed(10) \n",
        "shuffled_indices = np.random.permutation(X_train_full.shape[0])\n",
        "X_valid, X_train = X_train_full[shuffled_indices[:valid_size]], X_train_full[shuffled_indices[valid_size:]]\n",
        "y_valid, y_train = y_train_full[shuffled_indices[:valid_size]], y_train_full[shuffled_indices[valid_size:]]"
      ]
    },
    {
      "cell_type": "code",
      "execution_count": 8,
      "metadata": {},
      "outputs": [
        {
          "name": "stderr",
          "output_type": "stream",
          "text": [
            "2023-01-01 16:08:47.825400: W tensorflow/compiler/xla/stream_executor/platform/default/dso_loader.cc:64] Could not load dynamic library 'libcuda.so.1'; dlerror: libcuda.so.1: cannot open shared object file: No such file or directory\n",
            "2023-01-01 16:08:47.831866: W tensorflow/compiler/xla/stream_executor/cuda/cuda_driver.cc:265] failed call to cuInit: UNKNOWN ERROR (303)\n",
            "2023-01-01 16:08:47.831909: I tensorflow/compiler/xla/stream_executor/cuda/cuda_diagnostics.cc:156] kernel driver does not appear to be running on this host (networksciencetezos): /proc/driver/nvidia/version does not exist\n",
            "2023-01-01 16:08:47.834201: I tensorflow/core/platform/cpu_feature_guard.cc:193] This TensorFlow binary is optimized with oneAPI Deep Neural Network Library (oneDNN) to use the following CPU instructions in performance-critical operations:  AVX2 FMA\n",
            "To enable them in other operations, rebuild TensorFlow with the appropriate compiler flags.\n"
          ]
        }
      ],
      "source": [
        "# TODO: Build your model\n",
        "model = keras.models.Sequential([\n",
        "    #Convolutional Layers 1\n",
        "    keras.layers.Conv2D(filters=64, kernel_size=3, activation=\"relu\", kernel_initializer='he_uniform', padding=\"same\", input_shape=[28, 28, 1]),\n",
        "    keras.layers.Conv2D(filters=128, kernel_size=3, activation=\"relu\", kernel_initializer='he_uniform', padding=\"same\"), \n",
        "    #Pooling layer 1\n",
        "    keras.layers.MaxPooling2D(pool_size=2),\n",
        "    keras.layers.Flatten(), # starting fully connected layers\n",
        "    keras.layers.Dense(256, activation=\"relu\", kernel_initializer='he_uniform'),\n",
        "    keras.layers.Dropout(0.4), #Dropout Layer to reduce overfitting\n",
        "    keras.layers.Dense(64, activation=\"relu\", kernel_initializer='he_uniform'),\n",
        "    keras.layers.Dropout(0.4), #Dropout Layer to reduce overfitting\n",
        "    keras.layers.Dense(10, activation=\"softmax\") #10 Neurons because of digits 0-9\n",
        "])"
      ]
    },
    {
      "cell_type": "code",
      "execution_count": 9,
      "metadata": {},
      "outputs": [],
      "source": [
        "#Compile the model\n",
        "model.compile(loss=\"categorical_crossentropy\",\n",
        "              optimizer=keras.optimizers.SGD(learning_rate=0.01),\n",
        "              metrics=[\"accuracy\"])"
      ]
    },
    {
      "cell_type": "code",
      "execution_count": 10,
      "metadata": {},
      "outputs": [
        {
          "name": "stdout",
          "output_type": "stream",
          "text": [
            "Epoch 1/5\n",
            "1719/1719 [==============================] - 186s 107ms/step - loss: 0.4752 - accuracy: 0.8543 - val_loss: 0.1275 - val_accuracy: 0.9632\n",
            "Epoch 2/5\n",
            "1719/1719 [==============================] - 182s 106ms/step - loss: 0.1727 - accuracy: 0.9514 - val_loss: 0.0755 - val_accuracy: 0.9774\n",
            "Epoch 3/5\n",
            "1719/1719 [==============================] - 185s 107ms/step - loss: 0.1224 - accuracy: 0.9657 - val_loss: 0.0627 - val_accuracy: 0.9812\n",
            "Epoch 4/5\n",
            "1719/1719 [==============================] - 180s 105ms/step - loss: 0.0962 - accuracy: 0.9735 - val_loss: 0.0580 - val_accuracy: 0.9838\n",
            "Epoch 5/5\n",
            "1719/1719 [==============================] - 179s 104ms/step - loss: 0.0801 - accuracy: 0.9780 - val_loss: 0.0504 - val_accuracy: 0.9860\n"
          ]
        }
      ],
      "source": [
        "history = model.fit(X_train, y_train, batch_size=32, epochs=5, \n",
        "                    validation_data=(X_valid, y_valid))"
      ]
    },
    {
      "cell_type": "code",
      "execution_count": 11,
      "metadata": {
        "id": "aT7VrsPGUkM9"
      },
      "outputs": [
        {
          "name": "stdout",
          "output_type": "stream",
          "text": [
            "Model: \"sequential\"\n",
            "_________________________________________________________________\n",
            " Layer (type)                Output Shape              Param #   \n",
            "=================================================================\n",
            " conv2d (Conv2D)             (None, 28, 28, 64)        640       \n",
            "                                                                 \n",
            " conv2d_1 (Conv2D)           (None, 28, 28, 128)       73856     \n",
            "                                                                 \n",
            " max_pooling2d (MaxPooling2D  (None, 14, 14, 128)      0         \n",
            " )                                                               \n",
            "                                                                 \n",
            " flatten (Flatten)           (None, 25088)             0         \n",
            "                                                                 \n",
            " dense (Dense)               (None, 256)               6422784   \n",
            "                                                                 \n",
            " dropout (Dropout)           (None, 256)               0         \n",
            "                                                                 \n",
            " dense_1 (Dense)             (None, 64)                16448     \n",
            "                                                                 \n",
            " dropout_1 (Dropout)         (None, 64)                0         \n",
            "                                                                 \n",
            " dense_2 (Dense)             (None, 10)                650       \n",
            "                                                                 \n",
            "=================================================================\n",
            "Total params: 6,514,378\n",
            "Trainable params: 6,514,378\n",
            "Non-trainable params: 0\n",
            "_________________________________________________________________\n"
          ]
        }
      ],
      "source": [
        "# show the structure of your model\n",
        "model.summary()"
      ]
    },
    {
      "cell_type": "code",
      "execution_count": 12,
      "metadata": {
        "id": "XERUzgUMUkM-"
      },
      "outputs": [
        {
          "data": {
            "image/png": "[encoded data removed]",
            "text/plain": [
              "<Figure size 1200x800 with 1 Axes>"
            ]
          },
          "metadata": {},
          "output_type": "display_data"
        }
      ],
      "source": [
        "# Assume you have stored the training history in the variable \"history\"\n",
        "# Show the learning curves\n",
        "pd.DataFrame(history.history).plot(figsize=(12, 8))\n",
        "plt.gca().set_ylim(0, 1)\n",
        "plt.grid(True)\n",
        "plt.xlabel(\"Epochs\")\n",
        "plt.show()"
      ]
    },
    {
      "cell_type": "markdown",
      "metadata": {
        "id": "SJ6T9devUkNA"
      },
      "source": [
        "## Save the model\n",
        "\n",
        "Save and upload your trained model to the seafile link we provided to you. You can upload it multiple times. We will consider only the newest uploaded model. "
      ]
    },
    {
      "cell_type": "code",
      "execution_count": 13,
      "metadata": {
        "id": "Z1_gzlJQUkNB"
      },
      "outputs": [],
      "source": [
        "model.save('FDS22-M005-MNIST.h5') # change the file name according to your repository name"
      ]
    },
    {
      "cell_type": "markdown",
      "metadata": {
        "id": "zlKNWWrFUkNC"
      },
      "source": [
        "## Load the model and evaluate it on the test data"
      ]
    },
    {
      "cell_type": "code",
      "execution_count": 14,
      "metadata": {
        "id": "M5Ux_5kmUkND"
      },
      "outputs": [
        {
          "name": "stdout",
          "output_type": "stream",
          "text": [
            "313/313 [==============================] - 7s 22ms/step - loss: 0.0440 - accuracy: 0.9863\n"
          ]
        },
        {
          "data": {
            "text/plain": [
              "[0.04401077702641487, 0.986299991607666]"
            ]
          },
          "execution_count": 14,
          "metadata": {},
          "output_type": "execute_result"
        }
      ],
      "source": [
        "model = keras.models.load_model(\"FDS22-M005-MNIST.h5\")\n",
        "model.evaluate(X_test, y_test)"
      ]
    },
    {
      "cell_type": "markdown",
      "metadata": {
        "id": "TWWZ9VDyUkNE"
      },
      "source": [
        "## Short report\n",
        "\n",
        "Please write a few sentences explaining how you build and train the model. Please include the decisions you made, such as why you use x number layers and the difficulties you met. "
      ]
    },
    {
      "attachments": {},
      "cell_type": "markdown",
      "metadata": {
        "id": "kOSyMmkVUkNF"
      },
      "source": [
        "First I prepared the data by reshaping it to have one channel and normalizing it. After that I further prepared the data with an one hot encoding matrix. The model consists of two Convolutional layers followed by a Flatten and two Dense Layers with a decrasing amount of Neurons starting at 256. The last dense layers uses 10 neurons to represent the characters 0 - 9. to reduce overfitting I used Dropout layers inbetween the Fully connected layers. the only difficulties I met were that no TPU was available when I tried and that my kernel sometimes crashed when using more than 5 Epochs. The amount of layers I choose was sufficient to reach the target accuracy. "
      ]
    },
    {
      "cell_type": "markdown",
      "metadata": {},
      "source": []
    }
  ],
  "metadata": {
    "colab": {
      "provenance": [],
      "toc_visible": true
    },
    "kernelspec": {
      "display_name": "Python 3 (ipykernel)",
      "language": "python",
      "name": "python3"
    },
    "language_info": {
      "codemirror_mode": {
        "name": "ipython",
        "version": 3
      },
      "file_extension": ".py",
      "mimetype": "text/x-python",
      "name": "python",
      "nbconvert_exporter": "python",
      "pygments_lexer": "ipython3",
      "version": "3.10.6 (main, Nov 14 2022, 16:10:14) [GCC 11.3.0]"
    },
    "vscode": {
      "interpreter": {
        "hash": "767d51c1340bd893661ea55ea3124f6de3c7a262a8b4abca0554b478b1e2ff90"
      }
    }
  },
  "nbformat": 4,
  "nbformat_minor": 0
}
