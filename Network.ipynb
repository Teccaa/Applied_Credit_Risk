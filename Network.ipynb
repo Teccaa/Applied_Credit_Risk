{
 "cells": [
  {
   "attachments": {},
   "cell_type": "markdown",
   "metadata": {},
   "source": [
    "# Placeholder for Text"
   ]
  },
  {
   "cell_type": "code",
   "execution_count": 46,
   "metadata": {},
   "outputs": [],
   "source": [
    "#Import the libraries\n",
    "import numpy as np\n",
    "import pandas as pd\n",
    "import matplotlib.pyplot as plt\n",
    "from sklearn.model_selection import train_test_split\n",
    "from sklearn.metrics import roc_auc_score\n",
    "\n",
    "import tensorflow as tf\n",
    "from tensorflow import keras"
   ]
  },
  {
   "cell_type": "code",
   "execution_count": 47,
   "metadata": {},
   "outputs": [
    {
     "data": {
      "text/plain": [
       "'2.12.0'"
      ]
     },
     "execution_count": 47,
     "metadata": {},
     "output_type": "execute_result"
    }
   ],
   "source": [
    "tf.__version__"
   ]
  },
  {
   "cell_type": "code",
   "execution_count": 48,
   "metadata": {},
   "outputs": [
    {
     "data": {
      "text/plain": [
       "'2.12.0'"
      ]
     },
     "execution_count": 48,
     "metadata": {},
     "output_type": "execute_result"
    }
   ],
   "source": [
    "tf.keras.__version__"
   ]
  },
  {
   "attachments": {},
   "cell_type": "markdown",
   "metadata": {},
   "source": [
    "# Data"
   ]
  },
  {
   "cell_type": "code",
   "execution_count": 49,
   "metadata": {},
   "outputs": [],
   "source": [
    "import import_ipynb\n",
    "from Data_Cleaning import data_final_scaled"
   ]
  },
  {
   "cell_type": "code",
   "execution_count": 50,
   "metadata": {},
   "outputs": [],
   "source": [
    "data = data_final_scaled\n"
   ]
  },
  {
   "cell_type": "code",
   "execution_count": 51,
   "metadata": {},
   "outputs": [
    {
     "name": "stdout",
     "output_type": "stream",
     "text": [
      "Training set size: 316823\n",
      "Testing set size: 79206\n"
     ]
    }
   ],
   "source": [
    "train_set, test_set = train_test_split(data, test_size=0.2, random_state=42)\n",
    "\n",
    "print('Training set size:', len(train_set))\n",
    "print('Testing set size:', len(test_set))\n",
    "\n"
   ]
  },
  {
   "cell_type": "code",
   "execution_count": 52,
   "metadata": {},
   "outputs": [],
   "source": [
    "#Defining the datasets\n",
    "Y_train = train_set[\"remainder__loan_status\"]\n",
    "X_train = train_set.drop(\"remainder__loan_status\", axis=1)\n",
    "Y_test = test_set[\"remainder__loan_status\"]\n",
    "X_test = test_set.drop(\"remainder__loan_status\", axis=1)"
   ]
  },
  {
   "attachments": {},
   "cell_type": "markdown",
   "metadata": {},
   "source": [
    "## Models"
   ]
  },
  {
   "cell_type": "code",
   "execution_count": 53,
   "metadata": {},
   "outputs": [],
   "source": [
    "#Basic Model\n",
    "model1 = keras.models.Sequential([\n",
    "    #Input Layer (182 features)\n",
    "    keras.layers.Dense(256, activation=\"relu\", kernel_initializer='he_uniform'),\n",
    "    keras.layers.Dense(128, activation=\"relu\", kernel_initializer='he_uniform'),\n",
    "    keras.layers.Dense(32, activation=\"relu\", kernel_initializer='he_uniform'),\n",
    "    keras.layers.Dense(1, activation=\"sigmoid\") #1 neuron because binary\n",
    "])"
   ]
  },
  {
   "cell_type": "code",
   "execution_count": 54,
   "metadata": {},
   "outputs": [],
   "source": [
    "#Model with regularizers and Dropout layers\n",
    "model2 = keras.models.Sequential([\n",
    "    #Input Layer (182 features)\n",
    "    keras.layers.Dense(182, activation='relu', kernel_regularizer=keras.regularizers.l2(0.01)),\n",
    "    keras.layers.Dropout(0.5),\n",
    "    keras.layers.Dense(128, activation='relu', kernel_regularizer=keras.regularizers.l2(0.01)),\n",
    "    keras.layers.Dropout(0.5),\n",
    "    keras.layers.Dense(32, activation='relu', kernel_regularizer=keras.regularizers.l2(0.01)),\n",
    "    keras.layers.Dropout(0.5),\n",
    "    keras.layers.Dense(1, activation=\"sigmoid\") #1 neuron because binary\n",
    "])"
   ]
  },
  {
   "cell_type": "code",
   "execution_count": 55,
   "metadata": {},
   "outputs": [],
   "source": [
    "model1.compile(loss=\"binary_crossentropy\",\n",
    "              optimizer=keras.optimizers.SGD(learning_rate=0.01),\n",
    "              metrics=[\"accuracy\"])"
   ]
  },
  {
   "cell_type": "code",
   "execution_count": 56,
   "metadata": {},
   "outputs": [],
   "source": [
    "model2.compile(loss=\"binary_crossentropy\",\n",
    "              optimizer=keras.optimizers.Adam(learning_rate=0.01),\n",
    "              metrics=[\"accuracy\"])"
   ]
  },
  {
   "cell_type": "code",
   "execution_count": 57,
   "metadata": {},
   "outputs": [
    {
     "name": "stdout",
     "output_type": "stream",
     "text": [
      "Epoch 1/5\n",
      "3169/3169 [==============================] - 24s 7ms/step - loss: 0.4690 - accuracy: 0.8033 - val_loss: 0.4565 - val_accuracy: 0.8044\n",
      "Epoch 2/5\n",
      "3169/3169 [==============================] - 24s 8ms/step - loss: 0.4522 - accuracy: 0.8060 - val_loss: 0.4513 - val_accuracy: 0.8056\n",
      "Epoch 3/5\n",
      "3169/3169 [==============================] - 25s 8ms/step - loss: 0.4488 - accuracy: 0.8064 - val_loss: 0.4496 - val_accuracy: 0.8057\n",
      "Epoch 4/5\n",
      "3169/3169 [==============================] - 24s 8ms/step - loss: 0.4474 - accuracy: 0.8070 - val_loss: 0.4489 - val_accuracy: 0.8059\n",
      "Epoch 5/5\n",
      "3169/3169 [==============================] - 24s 8ms/step - loss: 0.4464 - accuracy: 0.8070 - val_loss: 0.4483 - val_accuracy: 0.8061\n"
     ]
    }
   ],
   "source": [
    "his_model1 = model1.fit(X_train, Y_train, batch_size=100, epochs=5, \n",
    "                    validation_data=(X_test, Y_test))"
   ]
  },
  {
   "cell_type": "code",
   "execution_count": 59,
   "metadata": {},
   "outputs": [
    {
     "name": "stdout",
     "output_type": "stream",
     "text": [
      "Epoch 1/5\n",
      "3169/3169 [==============================] - 35s 10ms/step - loss: 0.5049 - accuracy: 0.8041 - val_loss: 0.4965 - val_accuracy: 0.8028\n",
      "Epoch 2/5\n",
      "3169/3169 [==============================] - 31s 10ms/step - loss: 0.4947 - accuracy: 0.8041 - val_loss: 0.4966 - val_accuracy: 0.8028\n",
      "Epoch 3/5\n",
      "3169/3169 [==============================] - 29s 9ms/step - loss: 0.4947 - accuracy: 0.8041 - val_loss: 0.4965 - val_accuracy: 0.8028\n",
      "Epoch 4/5\n",
      "3169/3169 [==============================] - 32s 10ms/step - loss: 0.4947 - accuracy: 0.8041 - val_loss: 0.4965 - val_accuracy: 0.8028\n",
      "Epoch 5/5\n",
      "3169/3169 [==============================] - 32s 10ms/step - loss: 0.4947 - accuracy: 0.8041 - val_loss: 0.4965 - val_accuracy: 0.8028\n"
     ]
    }
   ],
   "source": [
    "his_model2 = model2.fit(X_train, Y_train, batch_size=100, epochs=5, \n",
    "                    validation_data=(X_test, Y_test))"
   ]
  },
  {
   "cell_type": "code",
   "execution_count": 60,
   "metadata": {},
   "outputs": [
    {
     "name": "stdout",
     "output_type": "stream",
     "text": [
      "2476/2476 [==============================] - 11s 4ms/step - loss: 0.4482 - accuracy: 0.8063\n"
     ]
    },
    {
     "data": {
      "text/plain": [
       "[0.44822099804878235, 0.8063404560089111]"
      ]
     },
     "execution_count": 60,
     "metadata": {},
     "output_type": "execute_result"
    }
   ],
   "source": [
    "model1.evaluate(X_test, Y_test)"
   ]
  },
  {
   "cell_type": "code",
   "execution_count": 61,
   "metadata": {},
   "outputs": [
    {
     "name": "stdout",
     "output_type": "stream",
     "text": [
      "2476/2476 [==============================] - 9s 4ms/step - loss: 0.4965 - accuracy: 0.8028\n"
     ]
    },
    {
     "data": {
      "text/plain": [
       "[0.4964981973171234, 0.8028053641319275]"
      ]
     },
     "execution_count": 61,
     "metadata": {},
     "output_type": "execute_result"
    }
   ],
   "source": [
    "model2.evaluate(X_test, Y_test)"
   ]
  }
 ],
 "metadata": {
  "kernelspec": {
   "display_name": "Python 3",
   "language": "python",
   "name": "python3"
  },
  "language_info": {
   "codemirror_mode": {
    "name": "ipython",
    "version": 3
   },
   "file_extension": ".py",
   "mimetype": "text/x-python",
   "name": "python",
   "nbconvert_exporter": "python",
   "pygments_lexer": "ipython3",
   "version": "3.11.2"
  },
  "orig_nbformat": 4,
  "vscode": {
   "interpreter": {
    "hash": "5238573367df39f7286bb46f9ff5f08f63a01a80960060ce41e3c79b190280fa"
   }
  }
 },
 "nbformat": 4,
 "nbformat_minor": 2
}
